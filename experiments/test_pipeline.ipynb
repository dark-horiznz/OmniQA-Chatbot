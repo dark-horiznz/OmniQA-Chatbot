{
 "cells": [
  {
   "cell_type": "code",
   "execution_count": 1,
   "id": "5fb6b8a2-04e7-431e-8a75-cd1a2f1b86af",
   "metadata": {},
   "outputs": [],
   "source": [
    "import os\n",
    "from langchain_groq import ChatGroq\n",
    "import google.generativeai as genai\n",
    "from langchain.document_loaders import UnstructuredPDFLoader, PyPDFLoader\n",
    "from langchain_pinecone import PineconeVectorStore\n",
    "from langchain.text_splitter import RecursiveCharacterTextSplitter\n",
    "from langchain import LLMChain\n",
    "from langchain.chains import create_retrieval_chain\n",
    "from langchain.chains.combine_documents import create_stuff_documents_chain\n",
    "from langchain_core.prompts import ChatPromptTemplate\n",
    "from pinecone import Pinecone\n",
    "from langchain.schema import Document\n",
    "from langchain_core.embeddings import Embeddings\n",
    "from typing import List\n",
    "import numpy as np\n",
    "\n",
    "from datasets import load_dataset\n",
    "import pandas as pd\n",
    "import os\n",
    "import numpy as np\n",
    "import time\n",
    "from tqdm import tqdm"
   ]
  },
  {
   "cell_type": "code",
   "execution_count": null,
   "id": "24760b38-ffeb-4e48-8e5d-b93f7a15356f",
   "metadata": {},
   "outputs": [],
   "source": [
    "os.environ['LANGCHAIN_TRACING_V2'] = 'true'\n",
    "os.environ['LANGCHAIN_ENDPOINT'] = 'https://api.smith.langchain.com'\n",
    "os.environ['LANGCHAIN_API_KEY'] = '<YOUR API KEY>'\n",
    "os.environ['GROQ_API_KEY'] = '<YOUR API KEY>'\n",
    "os.environ['PINECONE_API_KEY'] = '<YOUR API KEY>'\n",
    "os.environ['PINECONE_ENV'] = 'gemini-rag'\n",
    "os.environ[\"GEMINI_API_KEY\"] = '<YOUR API KEY>'"
   ]
  },
  {
   "cell_type": "code",
   "execution_count": 3,
   "id": "bffa37ff-76af-4aef-a29d-8d9a0560189f",
   "metadata": {},
   "outputs": [],
   "source": [
    "from embeddings import GeminiEmbeddings\n",
    "from db_utils import upsert , load_existing\n",
    "from scrape_chain import process_query\n",
    "from templates import make_templates\n",
    "from qa_chains import QA_chain_with_websearch , create_base_chains"
   ]
  },
  {
   "cell_type": "code",
   "execution_count": 4,
   "id": "2b36af00-456f-4bbc-b9e5-d1e8b876c94c",
   "metadata": {},
   "outputs": [],
   "source": [
    "genai.configure(api_key=os.environ[\"GEMINI_API_KEY\"])\n",
    "embeddings = GeminiEmbeddings(api_key=os.environ[\"GEMINI_API_KEY\"])\n",
    "pc = Pinecone(os.environ['PINECONE_API_KEY'])"
   ]
  },
  {
   "cell_type": "code",
   "execution_count": 5,
   "id": "7083f967-aabd-4f3e-afc6-a2fa97fc0071",
   "metadata": {},
   "outputs": [],
   "source": [
    "from langchain_pinecone import PineconeVectorStore\n",
    "vectorstore = load_existing(embeddings)"
   ]
  },
  {
   "cell_type": "code",
   "execution_count": 6,
   "id": "6bad6f35-5119-4a4b-b1f3-db9aa306cbf7",
   "metadata": {},
   "outputs": [],
   "source": [
    "answer_template , clarify_template , summary_template , web_summary_template, final_summary_template = make_templates()"
   ]
  },
  {
   "cell_type": "code",
   "execution_count": 7,
   "id": "353a8a71-7bb9-41f3-b486-e78c4474e8dc",
   "metadata": {},
   "outputs": [
    {
     "name": "stderr",
     "output_type": "stream",
     "text": [
      "/Users/aditya/Developer/Aditya/Hybrid RAG/qa_chains.py:7: LangChainDeprecationWarning: The class `LLMChain` was deprecated in LangChain 0.1.17 and will be removed in 1.0. Use :meth:`~RunnableSequence, e.g., `prompt | llm`` instead.\n",
      "  answer_chain = LLMChain(\n"
     ]
    }
   ],
   "source": [
    "answer_chain , clarify_chain , summary_chain , web_summary_chain , final_summary_chain = create_base_chains(answer_template , clarify_template , summary_template , web_summary_template, final_summary_template)"
   ]
  },
  {
   "cell_type": "code",
   "execution_count": 8,
   "id": "d9436585-7489-4c0e-bba1-eca34b1394bb",
   "metadata": {},
   "outputs": [
    {
     "name": "stderr",
     "output_type": "stream",
     "text": [
      "/Users/aditya/Developer/Aditya/Hybrid RAG/qa_chains.py:47: LangChainDeprecationWarning: The method `Chain.run` was deprecated in langchain 0.1.0 and will be removed in 1.0. Use :meth:`~invoke` instead.\n",
      "  a = answer_chain.run(question=q, context=ctx)\n"
     ]
    },
    {
     "name": "stdout",
     "output_type": "stream",
     "text": [
      "Searching The web!\n"
     ]
    },
    {
     "data": {
      "text/plain": [
       "\"Here is a concise and detailed final summary of the information:\\n\\n**Fever Management Guide**\\n\\nIf you have a high fever, it is recommended to take Paracetamol for fever relief and stay hydrated. If your symptoms worsen, you should visit the Emergency Room for further evaluation. (Corpus Text)\\n\\nAdditionally, according to a web search, a fever of 104°F and above is considered high. For high fevers, take acetaminophen first, and if it doesn't go down in about 30 minutes, reach out to your doctor or go to urgent care. (Dr. Ruff, Web Source)\\n\\nPlease note that the additional information from the web search is provided for further guidance, but the primary advice is based on the corpus text.\""
      ]
     },
     "execution_count": 8,
     "metadata": {},
     "output_type": "execute_result"
    }
   ],
   "source": [
    "question = 'I am having high fever and nausea since this morning.'\n",
    "QA_chain_with_websearch(question , vectorstore, answer_chain , clarify_chain , summary_chain , web_summary_chain , final_summary_chain)"
   ]
  },
  {
   "cell_type": "code",
   "execution_count": null,
   "id": "b8f79675-0bf5-438c-a8ad-f36149956e06",
   "metadata": {},
   "outputs": [],
   "source": []
  }
 ],
 "metadata": {
  "kernelspec": {
   "display_name": "Python 3 (ipykernel)",
   "language": "python",
   "name": "python3"
  },
  "language_info": {
   "codemirror_mode": {
    "name": "ipython",
    "version": 3
   },
   "file_extension": ".py",
   "mimetype": "text/x-python",
   "name": "python",
   "nbconvert_exporter": "python",
   "pygments_lexer": "ipython3",
   "version": "3.13.2"
  }
 },
 "nbformat": 4,
 "nbformat_minor": 5
}
